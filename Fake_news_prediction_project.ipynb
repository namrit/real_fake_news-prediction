{
  "nbformat": 4,
  "nbformat_minor": 0,
  "metadata": {
    "colab": {
      "private_outputs": true,
      "provenance": []
    },
    "kernelspec": {
      "name": "python3",
      "display_name": "Python 3"
    },
    "language_info": {
      "name": "python"
    }
  },
  "cells": [
    {
      "cell_type": "code",
      "execution_count": null,
      "metadata": {
        "id": "5hiOdgPhNt4K"
      },
      "outputs": [],
      "source": [
        "import numpy as np\n",
        "import pandas as pd\n",
        "import re\n",
        "import nltk\n",
        "from nltk.corpus import stopwords\n",
        "from nltk.stem.porter import PorterStemmer\n",
        "from sklearn.feature_extraction.text import TfidfVectorizer\n",
        "from sklearn.model_selection import train_test_split\n",
        "from sklearn.linear_model import LogisticRegression\n",
        "from sklearn.metrics import accuracy_score,confusion_matrix"
      ]
    },
    {
      "cell_type": "markdown",
      "source": [
        "Stemming takes a word and removes the prefix and suffix and returns the root word"
      ],
      "metadata": {
        "id": "5_JnGbqrXYuC"
      }
    },
    {
      "cell_type": "code",
      "source": [
        "nltk.download('stopwords')"
      ],
      "metadata": {
        "id": "Hpru33GXXZJF"
      },
      "execution_count": null,
      "outputs": []
    },
    {
      "cell_type": "code",
      "source": [
        "print(stopwords.words('english'))\n",
        "#printing the stopwords"
      ],
      "metadata": {
        "id": "Z7ueJAOdX6xz"
      },
      "execution_count": null,
      "outputs": []
    },
    {
      "cell_type": "markdown",
      "source": [
        "Dat preprocessing"
      ],
      "metadata": {
        "id": "ORmYqp65eRSF"
      }
    },
    {
      "cell_type": "code",
      "source": [
        "news = pd.read_csv('train.csv')"
      ],
      "metadata": {
        "id": "4Ux0ywglYIef"
      },
      "execution_count": null,
      "outputs": []
    },
    {
      "cell_type": "code",
      "source": [
        "news.shape"
      ],
      "metadata": {
        "id": "NS5XJ_r8fHVA"
      },
      "execution_count": null,
      "outputs": []
    },
    {
      "cell_type": "code",
      "source": [
        "#print the first 5 rows of the dataframe\n",
        "news.head()"
      ],
      "metadata": {
        "id": "_shkEMBifK_M"
      },
      "execution_count": null,
      "outputs": []
    },
    {
      "cell_type": "code",
      "source": [
        "#counting the no.of missing values in the dataset\n",
        "news.isnull().sum()"
      ],
      "metadata": {
        "id": "kZYX_Hc2ffr7"
      },
      "execution_count": null,
      "outputs": []
    },
    {
      "cell_type": "code",
      "source": [
        "#replacing the null values with empty string\n",
        "news = news.fillna('')"
      ],
      "metadata": {
        "id": "cN2nN5fwgHcQ"
      },
      "execution_count": null,
      "outputs": []
    },
    {
      "cell_type": "code",
      "source": [
        "news.isnull().sum()"
      ],
      "metadata": {
        "id": "PuNH8Hv0gvz9"
      },
      "execution_count": null,
      "outputs": []
    },
    {
      "cell_type": "code",
      "source": [
        "#combining the author name and new title\n",
        "news['content'] = news['author']+' '+news['title']\n"
      ],
      "metadata": {
        "id": "CEdKYyOug1Af"
      },
      "execution_count": null,
      "outputs": []
    },
    {
      "cell_type": "code",
      "source": [
        "print(news['content'])"
      ],
      "metadata": {
        "id": "agdilQ2UlCuA"
      },
      "execution_count": null,
      "outputs": []
    },
    {
      "cell_type": "code",
      "source": [
        "#separating the data & label\n",
        "X = news.drop(columns='label', axis=1)\n",
        "Y = news['label']"
      ],
      "metadata": {
        "id": "CfWatiI_lIom"
      },
      "execution_count": null,
      "outputs": []
    },
    {
      "cell_type": "code",
      "source": [
        "print(X)\n",
        "print(Y)"
      ],
      "metadata": {
        "id": "KroCfdialnJs"
      },
      "execution_count": null,
      "outputs": []
    },
    {
      "cell_type": "markdown",
      "source": [
        "Stemming: The process of reducing a word to it's root word\n",
        "\n",
        "eg: actor, actress, acting.... the root word is act"
      ],
      "metadata": {
        "id": "SaYeD4GYl8CI"
      }
    },
    {
      "cell_type": "code",
      "source": [
        "port_stem = PorterStemmer()"
      ],
      "metadata": {
        "id": "r1rBZvz_mRoV"
      },
      "execution_count": null,
      "outputs": []
    },
    {
      "cell_type": "code",
      "source": [
        "#creating a function\n",
        "def stemming(content):\n",
        "  stemmed_content = re.sub('[˄a-zA-Z]','',content)\n",
        "  stemmed_content = stemmed_content.lower()\n",
        "  stemmed_content = stemmed_content.split()\n",
        "  stemmed_content = [port_stem.stem(word) for word in stemmed_content if not word in stopwords.words('english')]\n",
        "  stemmed_content = ' '.join(stemmed_content)\n",
        "  return stemmed_content"
      ],
      "metadata": {
        "id": "BavOFGpvmwku"
      },
      "execution_count": null,
      "outputs": []
    },
    {
      "cell_type": "markdown",
      "source": [
        "1. Creating a stemming func, content represents i/p\n",
        "2. calling the re libraries used for searching paragraphs for text. Removes everything which are not alphabets.\n",
        "3. Converting all the letters into lower case\n",
        "4. Splitted and converted into list\n",
        "5. Taking each word and checking, using for to parse for not having the stopwords\n",
        "stemming is performed\n",
        "6. Stemming all the words and joining them\n",
        "7. Finally, returns the stemmed content"
      ],
      "metadata": {
        "id": "OiEw4zLBollq"
      }
    },
    {
      "cell_type": "code",
      "source": [
        "news['content'] = news['content'].apply(stemming)"
      ],
      "metadata": {
        "id": "CSOd9gw-qMf8"
      },
      "execution_count": null,
      "outputs": []
    },
    {
      "cell_type": "code",
      "source": [
        "print(news['content'])"
      ],
      "metadata": {
        "id": "HxnhxuVYqaYq"
      },
      "execution_count": null,
      "outputs": []
    },
    {
      "cell_type": "code",
      "source": [
        "news.head()"
      ],
      "metadata": {
        "id": "E5o2s5pIq2Ie"
      },
      "execution_count": null,
      "outputs": []
    },
    {
      "cell_type": "code",
      "source": [
        "#Separating the data and label\n",
        "X = news['content'].values\n",
        "Y = news['label'].values"
      ],
      "metadata": {
        "id": "k2ugdYGgrJJH"
      },
      "execution_count": null,
      "outputs": []
    },
    {
      "cell_type": "code",
      "source": [
        "print(X)"
      ],
      "metadata": {
        "id": "LWW97A3IoKnl"
      },
      "execution_count": null,
      "outputs": []
    },
    {
      "cell_type": "code",
      "source": [
        "print(Y)"
      ],
      "metadata": {
        "id": "eUAZGcx-oSLX"
      },
      "execution_count": null,
      "outputs": []
    },
    {
      "cell_type": "code",
      "source": [
        "Y.shape"
      ],
      "metadata": {
        "id": "K1SaGMjVoToe"
      },
      "execution_count": null,
      "outputs": []
    },
    {
      "cell_type": "markdown",
      "source": [
        "Converting textual data to numerical data"
      ],
      "metadata": {
        "id": "j4VYZlzyosTZ"
      }
    },
    {
      "cell_type": "code",
      "source": [
        "vectorizer = TfidfVectorizer()\n",
        "vectorizer.fit(X)\n",
        "\n",
        "X = vectorizer.transform(X)"
      ],
      "metadata": {
        "id": "m7-0Vn2Wof0H"
      },
      "execution_count": null,
      "outputs": []
    },
    {
      "cell_type": "code",
      "source": [
        "print(X)"
      ],
      "metadata": {
        "id": "EYnlvuzUrSYx"
      },
      "execution_count": null,
      "outputs": []
    },
    {
      "cell_type": "markdown",
      "source": [
        "#Fitting this into our machine learning model,Splitting our dataset to train & test data"
      ],
      "metadata": {
        "id": "CEOM0FOdrjlh"
      }
    },
    {
      "cell_type": "code",
      "source": [
        "X_train, X_test, y_train, y_test = train_test_split(X, Y, test_size = 0.2, stratify=Y, random_state=2)\n",
        "#startify split the dataset into train and test sets in a way that preserves the same proportions of examples in each class as observed in the original dataset."
      ],
      "metadata": {
        "id": "ECcd4WTWrUFL"
      },
      "execution_count": null,
      "outputs": []
    },
    {
      "cell_type": "markdown",
      "source": [
        "Logistic regression model"
      ],
      "metadata": {
        "id": "PrHyQaTlstad"
      }
    },
    {
      "cell_type": "code",
      "source": [
        "model = LogisticRegression()"
      ],
      "metadata": {
        "id": "dBnOaudDrhNU"
      },
      "execution_count": null,
      "outputs": []
    },
    {
      "cell_type": "code",
      "source": [
        "model.fit(X_train, y_train)"
      ],
      "metadata": {
        "id": "ZWelTNMHsxOc"
      },
      "execution_count": null,
      "outputs": []
    },
    {
      "cell_type": "code",
      "source": [
        "#accuracy score on the training data\n",
        "X_train_prediction = model.predict(X_train)\n",
        "training_data_accuracy = accuracy_score(X_train_prediction, y_train)"
      ],
      "metadata": {
        "id": "9L3FVnhrtulc"
      },
      "execution_count": null,
      "outputs": []
    },
    {
      "cell_type": "code",
      "source": [
        "print('Accuracy score of the training data : ', training_data_accuracy)"
      ],
      "metadata": {
        "id": "hTr9PJpCuZMf"
      },
      "execution_count": null,
      "outputs": []
    },
    {
      "cell_type": "code",
      "source": [
        "#accuracy score on the test data\n",
        "X_test_prediction = model.predict(X_test)\n",
        "test_data_accuracy = accuracy_score(X_test_prediction, y_test)"
      ],
      "metadata": {
        "id": "OyUhNcXSu08p"
      },
      "execution_count": null,
      "outputs": []
    },
    {
      "cell_type": "code",
      "source": [
        "print('Accuracy score of the testing data : ', test_data_accuracy)"
      ],
      "metadata": {
        "id": "wyUHX255vQau"
      },
      "execution_count": null,
      "outputs": []
    },
    {
      "cell_type": "markdown",
      "source": [
        "#Making a predictive system"
      ],
      "metadata": {
        "id": "Nr62LNzRvcXS"
      }
    },
    {
      "cell_type": "code",
      "source": [
        "X_new = X_test[0] #making new news prediction\n",
        "\n",
        "prediction=model.predict(X_new)\n",
        "print(prediction)\n",
        "\n",
        "if (prediction[0]==0):\n",
        "  print('The news is Real')\n",
        "else:\n",
        "  print('The news is Fake')"
      ],
      "metadata": {
        "id": "Ia3IpuZBvUfO"
      },
      "execution_count": null,
      "outputs": []
    },
    {
      "cell_type": "code",
      "source": [
        "print(y_test[0])"
      ],
      "metadata": {
        "id": "E4atz_x_wCpi"
      },
      "execution_count": null,
      "outputs": []
    },
    {
      "cell_type": "markdown",
      "source": [
        "The output is predicting the fake news result"
      ],
      "metadata": {
        "id": "ARHQLiC2ww7L"
      }
    },
    {
      "cell_type": "code",
      "source": [
        "X_new = X_test[1]\n",
        "\n",
        "prediction=model.predict(X_new)\n",
        "print(prediction)\n",
        "\n",
        "if (prediction[0]==0):\n",
        "  print('The news is Real')\n",
        "else:\n",
        "  print('The news is Fake')"
      ],
      "metadata": {
        "id": "XEQ0ueIFwjaD"
      },
      "execution_count": null,
      "outputs": []
    },
    {
      "cell_type": "code",
      "source": [
        "print(y_test[1])"
      ],
      "metadata": {
        "id": "68cPq2Glworl"
      },
      "execution_count": null,
      "outputs": []
    },
    {
      "cell_type": "markdown",
      "source": [
        "The output is predicting the original true news result"
      ],
      "metadata": {
        "id": "FxDDNCdmw2I1"
      }
    },
    {
      "cell_type": "code",
      "source": [],
      "metadata": {
        "id": "Zfgzrb5ews9d"
      },
      "execution_count": null,
      "outputs": []
    }
  ]
}